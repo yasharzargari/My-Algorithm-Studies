{
  "nbformat": 4,
  "nbformat_minor": 0,
  "metadata": {
    "colab": {
      "name": "Linked-Stack.ipynb",
      "provenance": [],
      "collapsed_sections": [],
      "authorship_tag": "ABX9TyPEZvGylKC45TD2dBipI6nv",
      "include_colab_link": true
    },
    "kernelspec": {
      "name": "python3",
      "display_name": "Python 3"
    }
  },
  "cells": [
    {
      "cell_type": "markdown",
      "metadata": {
        "id": "view-in-github",
        "colab_type": "text"
      },
      "source": [
        "<a href=\"https://colab.research.google.com/github/yasharzargari/My-Algorithm-Studies/blob/master/Stack-Queue/Linked_Stack.ipynb\" target=\"_parent\"><img src=\"https://colab.research.google.com/assets/colab-badge.svg\" alt=\"Open In Colab\"/></a>"
      ]
    },
    {
      "cell_type": "markdown",
      "metadata": {
        "id": "9uEM-01v0YB0",
        "colab_type": "text"
      },
      "source": [
        "*Stack with Linked List*"
      ]
    },
    {
      "cell_type": "code",
      "metadata": {
        "id": "q_RV2pHW0V6R",
        "colab_type": "code",
        "colab": {}
      },
      "source": [
        "class Node:\n",
        "  def __init__(self, data):\n",
        "    self.data = data\n",
        "    self.next = None"
      ],
      "execution_count": 0,
      "outputs": []
    },
    {
      "cell_type": "code",
      "metadata": {
        "id": "MU4AwCa41KJX",
        "colab_type": "code",
        "colab": {}
      },
      "source": [
        "class LinkedStack:\n",
        "  def __init__(self):\n",
        "    self.first = None\n",
        "\n",
        "  def isEmpty(self):\n",
        "    return self.first == None\n",
        "\n",
        "  def push(self, item: str):\n",
        "    oldFirst = self.first\n",
        "    node = Node(item)\n",
        "    node.next =  oldFirst\n",
        "    self.first = node\n",
        "\n",
        "  def pop(self) -> str:\n",
        "    if self.isEmpty():\n",
        "      return -1\n",
        "    else:\n",
        "      item = self.first.data\n",
        "      self.first = self.first.next\n",
        "      return item\n"
      ],
      "execution_count": 0,
      "outputs": []
    },
    {
      "cell_type": "code",
      "metadata": {
        "id": "QrIJFDwr7dhP",
        "colab_type": "code",
        "colab": {}
      },
      "source": [
        "x = LinkedStack()"
      ],
      "execution_count": 0,
      "outputs": []
    },
    {
      "cell_type": "code",
      "metadata": {
        "id": "G67BgiTA-V2s",
        "colab_type": "code",
        "colab": {
          "base_uri": "https://localhost:8080/",
          "height": 34
        },
        "outputId": "34367691-600b-4f04-f77a-d36efd438292"
      },
      "source": [
        "x.isEmpty()"
      ],
      "execution_count": 133,
      "outputs": [
        {
          "output_type": "execute_result",
          "data": {
            "text/plain": [
              "False"
            ]
          },
          "metadata": {
            "tags": []
          },
          "execution_count": 133
        }
      ]
    },
    {
      "cell_type": "code",
      "metadata": {
        "id": "VyQLSgbK7maf",
        "colab_type": "code",
        "colab": {}
      },
      "source": [
        "x.push(1)\n",
        "x.push(2)\n",
        "x.push(3)\n",
        "x.push(4)\n",
        "x.push(5)\n",
        "x.push(6)\n",
        "x.push(7)"
      ],
      "execution_count": 0,
      "outputs": []
    },
    {
      "cell_type": "code",
      "metadata": {
        "id": "53nLHyi8710R",
        "colab_type": "code",
        "colab": {
          "base_uri": "https://localhost:8080/",
          "height": 136
        },
        "outputId": "df5b5dcc-0fd2-4264-d2e7-27c21746f03c"
      },
      "source": [
        "while x.isEmpty() != True:\n",
        "  print(x.pop())"
      ],
      "execution_count": 142,
      "outputs": [
        {
          "output_type": "stream",
          "text": [
            "7\n",
            "6\n",
            "5\n",
            "4\n",
            "3\n",
            "2\n",
            "1\n"
          ],
          "name": "stdout"
        }
      ]
    },
    {
      "cell_type": "code",
      "metadata": {
        "id": "-LJoLaT59frz",
        "colab_type": "code",
        "colab": {}
      },
      "source": [
        ""
      ],
      "execution_count": 0,
      "outputs": []
    }
  ]
}