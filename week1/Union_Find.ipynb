{
  "nbformat": 4,
  "nbformat_minor": 0,
  "metadata": {
    "colab": {
      "name": "Union_Find.ipynb",
      "version": "0.3.2",
      "provenance": [],
      "include_colab_link": true
    },
    "kernelspec": {
      "name": "python3",
      "display_name": "Python 3"
    }
  },
  "cells": [
    {
      "cell_type": "markdown",
      "metadata": {
        "id": "view-in-github",
        "colab_type": "text"
      },
      "source": [
        "<a href=\"https://colab.research.google.com/github/yasharzargari/My-Algorithm-Studies/blob/master/week1/Union_Find.ipynb\" target=\"_parent\"><img src=\"https://colab.research.google.com/assets/colab-badge.svg\" alt=\"Open In Colab\"/></a>"
      ]
    },
    {
      "cell_type": "code",
      "metadata": {
        "id": "_p-LZB-HLqMr",
        "colab_type": "code",
        "colab": {}
      },
      "source": [
        ""
      ],
      "execution_count": 0,
      "outputs": []
    },
    {
      "cell_type": "markdown",
      "metadata": {
        "id": "lsOCT0wVLsKp",
        "colab_type": "text"
      },
      "source": [
        "The input is a sequence of pairs of integers, where each integer represents an object of some type and we are to interpret the pair p q as meaning “p is connected to q.”"
      ]
    },
    {
      "cell_type": "code",
      "metadata": {
        "id": "n-yZrVin85w1",
        "colab_type": "code",
        "colab": {}
      },
      "source": [
        "import numpy as np"
      ],
      "execution_count": 0,
      "outputs": []
    },
    {
      "cell_type": "code",
      "metadata": {
        "id": "0mZdSMAz8FRb",
        "colab_type": "code",
        "colab": {}
      },
      "source": [
        "class QuickUnionUF():\n",
        "  def __init__(N):\n",
        "    id = [None] * N\n",
        "    for n in range(N):\n",
        "      id[n] = n\n",
        "      \n",
        "  def root(i):\n",
        "    while(id[i] != i):\n",
        "      i = id[i]\n",
        "    return i\n",
        "  \n",
        "  def connected(p, q):\n",
        "    return root(p) == root(q)\n",
        "  \n",
        "  def union(p, q):\n",
        "    i = root(p)\n",
        "    j = root(q)\n",
        "    id[i] = j\n",
        "  \n",
        "    \n",
        "      \n",
        "    "
      ],
      "execution_count": 0,
      "outputs": []
    },
    {
      "cell_type": "markdown",
      "metadata": {
        "id": "Kr54V1zrMEdg",
        "colab_type": "text"
      },
      "source": [
        "The approach above is not good since as we can have a very tall and skinny tree. In this situation finding the root is going to be very expensive (wost case N)\n",
        "\n",
        "The miximum number of array access is N"
      ]
    },
    {
      "cell_type": "markdown",
      "metadata": {
        "id": "_yxMT7szseuP",
        "colab_type": "text"
      },
      "source": [
        "#improvment\n",
        "1.   Modify union to avoid latrge tree \n",
        "2.   Keep track of size of trees\n",
        "3.   Balance by linking root of smaller tree to large tree \n",
        "\n",
        "Depth of any node at most log(N)"
      ]
    },
    {
      "cell_type": "code",
      "metadata": {
        "id": "G-kG4bARMDQs",
        "colab_type": "code",
        "colab": {}
      },
      "source": [
        "class QuickImproved():\n",
        "  id = []\n",
        "  def __init__(self, N):\n",
        "    id = [None] * N\n",
        "    for n in range(N):\n",
        "      id[n] = n\n",
        "      \n",
        "  def root(self, i):\n",
        "    while(id[i] != i):\n",
        "      # to speed up we can assign every other node to its grandpa (almost flat)\n",
        "      # or we can find the root and then with separate loop assign all the child to the root (total flat)\n",
        "      id[i] = id[id[i]]\n",
        "      i = id[i]\n",
        "    return i\n",
        "  \n",
        "  def connected(self, p, q):\n",
        "    return self.root(p) == self.root(q)\n",
        "  \n",
        "  def union(self, p, q):\n",
        "    sz = [0] * N\n",
        "    i = self.root(p)\n",
        "    j = self.root(q)\n",
        "    if(i == j ):\n",
        "      return\n",
        "    if(sz[i] < sz[j]):\n",
        "      id[i] = j\n",
        "      sz[j] += sz[i]      \n",
        "    else:\n",
        "      id[j] = i\n",
        "      sz[i] += sz[j]\n",
        "\n",
        "      \n",
        "  "
      ],
      "execution_count": 0,
      "outputs": []
    },
    {
      "cell_type": "code",
      "metadata": {
        "id": "9Oz0x4fi-Rad",
        "colab_type": "code",
        "colab": {}
      },
      "source": [
        "qi = QuickImproved(9)\n"
      ],
      "execution_count": 0,
      "outputs": []
    },
    {
      "cell_type": "code",
      "metadata": {
        "id": "y2Y-HIu9HxU5",
        "colab_type": "code",
        "colab": {
          "base_uri": "https://localhost:8080/",
          "height": 307
        },
        "outputId": "d74d00b4-42d7-47b9-911a-c3f0a2eee600"
      },
      "source": [
        "qi.connected(1,2)"
      ],
      "execution_count": 30,
      "outputs": [
        {
          "output_type": "error",
          "ename": "TypeError",
          "evalue": "ignored",
          "traceback": [
            "\u001b[0;31m---------------------------------------------------------------------------\u001b[0m",
            "\u001b[0;31mTypeError\u001b[0m                                 Traceback (most recent call last)",
            "\u001b[0;32m<ipython-input-30-0870c7dc433b>\u001b[0m in \u001b[0;36m<module>\u001b[0;34m()\u001b[0m\n\u001b[0;32m----> 1\u001b[0;31m \u001b[0mqi\u001b[0m\u001b[0;34m.\u001b[0m\u001b[0mconnected\u001b[0m\u001b[0;34m(\u001b[0m\u001b[0;36m1\u001b[0m\u001b[0;34m,\u001b[0m\u001b[0;36m2\u001b[0m\u001b[0;34m)\u001b[0m\u001b[0;34m\u001b[0m\u001b[0;34m\u001b[0m\u001b[0m\n\u001b[0m",
            "\u001b[0;32m<ipython-input-28-f48b46bea923>\u001b[0m in \u001b[0;36mconnected\u001b[0;34m(self, p, q)\u001b[0m\n\u001b[1;32m     15\u001b[0m \u001b[0;34m\u001b[0m\u001b[0m\n\u001b[1;32m     16\u001b[0m   \u001b[0;32mdef\u001b[0m \u001b[0mconnected\u001b[0m\u001b[0;34m(\u001b[0m\u001b[0mself\u001b[0m\u001b[0;34m,\u001b[0m \u001b[0mp\u001b[0m\u001b[0;34m,\u001b[0m \u001b[0mq\u001b[0m\u001b[0;34m)\u001b[0m\u001b[0;34m:\u001b[0m\u001b[0;34m\u001b[0m\u001b[0;34m\u001b[0m\u001b[0m\n\u001b[0;32m---> 17\u001b[0;31m     \u001b[0;32mreturn\u001b[0m \u001b[0mself\u001b[0m\u001b[0;34m.\u001b[0m\u001b[0mroot\u001b[0m\u001b[0;34m(\u001b[0m\u001b[0mp\u001b[0m\u001b[0;34m)\u001b[0m \u001b[0;34m==\u001b[0m \u001b[0mself\u001b[0m\u001b[0;34m.\u001b[0m\u001b[0mroot\u001b[0m\u001b[0;34m(\u001b[0m\u001b[0mq\u001b[0m\u001b[0;34m)\u001b[0m\u001b[0;34m\u001b[0m\u001b[0;34m\u001b[0m\u001b[0m\n\u001b[0m\u001b[1;32m     18\u001b[0m \u001b[0;34m\u001b[0m\u001b[0m\n\u001b[1;32m     19\u001b[0m   \u001b[0;32mdef\u001b[0m \u001b[0munion\u001b[0m\u001b[0;34m(\u001b[0m\u001b[0mself\u001b[0m\u001b[0;34m,\u001b[0m \u001b[0mp\u001b[0m\u001b[0;34m,\u001b[0m \u001b[0mq\u001b[0m\u001b[0;34m)\u001b[0m\u001b[0;34m:\u001b[0m\u001b[0;34m\u001b[0m\u001b[0;34m\u001b[0m\u001b[0m\n",
            "\u001b[0;32m<ipython-input-28-f48b46bea923>\u001b[0m in \u001b[0;36mroot\u001b[0;34m(self, i)\u001b[0m\n\u001b[1;32m      7\u001b[0m \u001b[0;34m\u001b[0m\u001b[0m\n\u001b[1;32m      8\u001b[0m   \u001b[0;32mdef\u001b[0m \u001b[0mroot\u001b[0m\u001b[0;34m(\u001b[0m\u001b[0mself\u001b[0m\u001b[0;34m,\u001b[0m \u001b[0mi\u001b[0m\u001b[0;34m)\u001b[0m\u001b[0;34m:\u001b[0m\u001b[0;34m\u001b[0m\u001b[0;34m\u001b[0m\u001b[0m\n\u001b[0;32m----> 9\u001b[0;31m     \u001b[0;32mwhile\u001b[0m\u001b[0;34m(\u001b[0m\u001b[0mid\u001b[0m\u001b[0;34m[\u001b[0m\u001b[0mi\u001b[0m\u001b[0;34m]\u001b[0m \u001b[0;34m!=\u001b[0m \u001b[0mi\u001b[0m\u001b[0;34m)\u001b[0m\u001b[0;34m:\u001b[0m\u001b[0;34m\u001b[0m\u001b[0;34m\u001b[0m\u001b[0m\n\u001b[0m\u001b[1;32m     10\u001b[0m       \u001b[0;31m# to speed up we can assign every other node to its grandpa (almost flat)\u001b[0m\u001b[0;34m\u001b[0m\u001b[0;34m\u001b[0m\u001b[0;34m\u001b[0m\u001b[0m\n\u001b[1;32m     11\u001b[0m       \u001b[0;31m# or we can find the root and then with separate loop assign all the child to the root (total flat)\u001b[0m\u001b[0;34m\u001b[0m\u001b[0;34m\u001b[0m\u001b[0;34m\u001b[0m\u001b[0m\n",
            "\u001b[0;31mTypeError\u001b[0m: 'builtin_function_or_method' object is not subscriptable"
          ]
        }
      ]
    },
    {
      "cell_type": "code",
      "metadata": {
        "id": "hpDQlPjFH-j1",
        "colab_type": "code",
        "colab": {}
      },
      "source": [
        ""
      ],
      "execution_count": 0,
      "outputs": []
    }
  ]
}