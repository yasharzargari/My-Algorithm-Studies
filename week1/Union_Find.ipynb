{
  "nbformat": 4,
  "nbformat_minor": 0,
  "metadata": {
    "colab": {
      "name": "Union_Find.ipynb",
      "version": "0.3.2",
      "provenance": [],
      "include_colab_link": true
    },
    "kernelspec": {
      "name": "python3",
      "display_name": "Python 3"
    }
  },
  "cells": [
    {
      "cell_type": "markdown",
      "metadata": {
        "id": "view-in-github",
        "colab_type": "text"
      },
      "source": [
        "<a href=\"https://colab.research.google.com/github/yasharzargari/My-Algorithm-Studies/blob/master/week1/Union_Find.ipynb\" target=\"_parent\"><img src=\"https://colab.research.google.com/assets/colab-badge.svg\" alt=\"Open In Colab\"/></a>"
      ]
    },
    {
      "cell_type": "code",
      "metadata": {
        "id": "_p-LZB-HLqMr",
        "colab_type": "code",
        "colab": {}
      },
      "source": [
        ""
      ],
      "execution_count": 0,
      "outputs": []
    },
    {
      "cell_type": "markdown",
      "metadata": {
        "id": "lsOCT0wVLsKp",
        "colab_type": "text"
      },
      "source": [
        "The input is a sequence of pairs of integers, where each integer represents an object of some type and we are to interpret the pair p q as meaning “p is connected to q.”"
      ]
    },
    {
      "cell_type": "code",
      "metadata": {
        "id": "n-yZrVin85w1",
        "colab_type": "code",
        "colab": {}
      },
      "source": [
        "import numpy as np"
      ],
      "execution_count": 0,
      "outputs": []
    },
    {
      "cell_type": "code",
      "metadata": {
        "id": "0mZdSMAz8FRb",
        "colab_type": "code",
        "colab": {}
      },
      "source": [
        "class QuickUnionUF():\n",
        "  def __init__(N):\n",
        "    id = [None] * N\n",
        "    for n in range(N):\n",
        "      id[n] = n\n",
        "      \n",
        "  def root(i):\n",
        "    while(id[i] != i):\n",
        "      i = id[i]\n",
        "    return i\n",
        "  \n",
        "  def connected(p, q):\n",
        "    return root(p) == root(q)\n",
        "  \n",
        "  def union(p, q):\n",
        "    i = root(p)\n",
        "    j = root(q)\n",
        "    id[i] = j\n",
        "  \n",
        "    \n",
        "      \n",
        "    "
      ],
      "execution_count": 0,
      "outputs": []
    },
    {
      "cell_type": "markdown",
      "metadata": {
        "id": "Kr54V1zrMEdg",
        "colab_type": "text"
      },
      "source": [
        "The approach above is not good since as we can have a very tall and skinny tree. In this situation finding the root is going to be very expensive (wost case N)\n",
        "\n",
        "The miximum number of array access is N"
      ]
    },
    {
      "cell_type": "markdown",
      "metadata": {
        "id": "_yxMT7szseuP",
        "colab_type": "text"
      },
      "source": [
        "#improvment\n",
        "1.   Modify union to avoid latrge tree \n",
        "2.   Keep track of size of trees\n",
        "3.   Balance by linking root of smaller tree to large tree \n",
        "\n",
        "Depth of any node at most log(N)"
      ]
    },
    {
      "cell_type": "code",
      "metadata": {
        "id": "G-kG4bARMDQs",
        "colab_type": "code",
        "colab": {}
      },
      "source": [
        "class QuickImproved():\n",
        "    #   id = []\n",
        "    def __init__(self, n):\n",
        "        self.id = [None] * n\n",
        "        self.sz = [1] * n\n",
        "        for i in range(n):\n",
        "            self.id[i] = i\n",
        "\n",
        "    def root(self, i):\n",
        "        while self.id[i] != i:\n",
        "            # to speed up we can assign every other node to its grandpa (almost flat)\n",
        "            # or we can find the root and then with separate loop assign all the child to the root (total flat)\n",
        "            self.id[i] = self.id[self.id[i]]\n",
        "            i = self.id[i]\n",
        "        return i\n",
        "\n",
        "    def connected(self, p, q):\n",
        "        return self.root(p) == self.root(q)\n",
        "\n",
        "    def union(self, p, q):\n",
        "        # initialize the size to 0\n",
        "\n",
        "        #     find the roots of 2 onject\n",
        "        i = self.root(p)\n",
        "        j = self.root(q)\n",
        "        #     if their roots are the same they are connected\n",
        "        if i == j:\n",
        "            return\n",
        "        #     Link the root of smaller tree to root of larger tree\n",
        "        if self.sz[i] < self.sz[j]:\n",
        "            self.id[i] = j\n",
        "            self.sz[j] += self.sz[i]\n",
        "        else:\n",
        "            self.id[j] = i\n",
        "            self.sz[i] += self.sz[j]\n",
        "\n",
        "            print(self.sz)"
      ],
      "execution_count": 0,
      "outputs": []
    },
    {
      "cell_type": "code",
      "metadata": {
        "id": "9Oz0x4fi-Rad",
        "colab_type": "code",
        "colab": {}
      },
      "source": [
        "obj = QuickImproved(10)\n"
      ],
      "execution_count": 0,
      "outputs": []
    },
    {
      "cell_type": "code",
      "metadata": {
        "id": "y2Y-HIu9HxU5",
        "colab_type": "code",
        "outputId": "9f83aa20-54ea-4c69-8f97-2109dd96b507",
        "colab": {
          "base_uri": "https://localhost:8080/",
          "height": 102
        }
      },
      "source": [
        "obj.union(4, 3)\n",
        "obj.union(3, 8)\n",
        "obj.union(6, 5)\n",
        "obj.union(9, 4)\n",
        "obj.union(1, 2)\n",
        "obj.union(5, 0)\n"
      ],
      "execution_count": 67,
      "outputs": [
        {
          "output_type": "stream",
          "text": [
            "[1, 1, 1, 1, 2, 1, 1, 1, 1, 1]\n",
            "[1, 1, 1, 1, 3, 1, 1, 1, 1, 1]\n",
            "[1, 1, 1, 1, 3, 1, 2, 1, 1, 1]\n",
            "[1, 2, 1, 1, 4, 1, 2, 1, 1, 1]\n",
            "[1, 2, 1, 1, 4, 1, 3, 1, 1, 1]\n"
          ],
          "name": "stdout"
        }
      ]
    },
    {
      "cell_type": "code",
      "metadata": {
        "id": "hpDQlPjFH-j1",
        "colab_type": "code",
        "colab": {
          "base_uri": "https://localhost:8080/",
          "height": 34
        },
        "outputId": "d0ffe72c-b228-4b97-9bb5-12c64d265e9f"
      },
      "source": [
        "obj.connected(1,2)"
      ],
      "execution_count": 60,
      "outputs": [
        {
          "output_type": "execute_result",
          "data": {
            "text/plain": [
              "True"
            ]
          },
          "metadata": {
            "tags": []
          },
          "execution_count": 60
        }
      ]
    },
    {
      "cell_type": "code",
      "metadata": {
        "id": "jkRKUBYrOIb-",
        "colab_type": "code",
        "colab": {
          "base_uri": "https://localhost:8080/",
          "height": 34
        },
        "outputId": "3ba9148a-83d9-4375-f3e0-dc64f65c6c32"
      },
      "source": [
        "obj.connected(4,8)"
      ],
      "execution_count": 61,
      "outputs": [
        {
          "output_type": "execute_result",
          "data": {
            "text/plain": [
              "True"
            ]
          },
          "metadata": {
            "tags": []
          },
          "execution_count": 61
        }
      ]
    },
    {
      "cell_type": "code",
      "metadata": {
        "id": "ZX-bWApcP46W",
        "colab_type": "code",
        "colab": {
          "base_uri": "https://localhost:8080/",
          "height": 34
        },
        "outputId": "d0e39f98-0bdd-42dc-d902-addc34c61118"
      },
      "source": [
        "obj.connected(1,7)"
      ],
      "execution_count": 62,
      "outputs": [
        {
          "output_type": "execute_result",
          "data": {
            "text/plain": [
              "False"
            ]
          },
          "metadata": {
            "tags": []
          },
          "execution_count": 62
        }
      ]
    },
    {
      "cell_type": "code",
      "metadata": {
        "id": "AYjUhC5bP7BY",
        "colab_type": "code",
        "colab": {}
      },
      "source": [
        "obj.union(7,2)\n"
      ],
      "execution_count": 0,
      "outputs": []
    },
    {
      "cell_type": "code",
      "metadata": {
        "id": "6-cEVq3ZQEu6",
        "colab_type": "code",
        "colab": {
          "base_uri": "https://localhost:8080/",
          "height": 34
        },
        "outputId": "abe71bae-bae0-4022-9e6b-152b8876d8c5"
      },
      "source": [
        "obj.connected(1,7)"
      ],
      "execution_count": 64,
      "outputs": [
        {
          "output_type": "execute_result",
          "data": {
            "text/plain": [
              "True"
            ]
          },
          "metadata": {
            "tags": []
          },
          "execution_count": 64
        }
      ]
    },
    {
      "cell_type": "code",
      "metadata": {
        "id": "OsBPesFhQG8B",
        "colab_type": "code",
        "colab": {}
      },
      "source": [
        ""
      ],
      "execution_count": 0,
      "outputs": []
    }
  ]
}